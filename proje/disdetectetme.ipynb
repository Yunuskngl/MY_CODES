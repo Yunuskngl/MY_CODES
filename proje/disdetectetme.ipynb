{
 "cells": [
  {
   "cell_type": "code",
   "execution_count": 1,
   "metadata": {},
   "outputs": [],
   "source": [
    "import cv2\n",
    "import numpy as np\n",
    "import pandas as pd\n",
    "\n",
    "# Vita renk skalası dosyasını yükleyin\n",
    "csv = pd.read_csv('detailed_vita.csv')\n",
    "\n",
    "# En yakın rengi bulmak için kullanılan fonksiyon\n",
    "def getColorName(R, G, B):\n",
    "    minimum = 10000\n",
    "    cname = \"Unknown\"\n",
    "    for i in range(len(csv)):\n",
    "        d = abs(R - int(csv.loc[i, \"R\"])) + abs(G - int(csv.loc[i, \"G\"])) + abs(B - int(csv.loc[i, \"B\"]))\n",
    "        if d <= minimum:\n",
    "            minimum = d\n",
    "            cname = csv.loc[i, \"color_name\"]\n",
    "    return cname\n",
    "\n",
    "# Resmi yükleyin\n",
    "img_path = \"images.jpeg\"\n",
    "img = cv2.imread(img_path)\n",
    "img_resized = cv2.resize(img, (800, 400))  # Görüntüyü yeniden boyutlandırın\n",
    "\n",
    "# Gri tonlamalı resme dönüştürün\n",
    "gray = cv2.cvtColor(img_resized, cv2.COLOR_BGR2GRAY)\n",
    "\n",
    "# Görüntüyü bulanıklaştırarak gürültüyü azaltın\n",
    "blurred = cv2.medianBlur(gray, 5)\n",
    "\n",
    "# Hough Daire Dönüşümü ile daireleri tespit edin\n",
    "circles = cv2.HoughCircles(blurred, cv2.HOUGH_GRADIENT, dp=1.2, minDist=50,\n",
    "                           param1=50, param2=30, minRadius=10, maxRadius=50)\n",
    "\n",
    "# Eğer daireler tespit edildiyse\n",
    "if circles is not None:\n",
    "    circles = np.round(circles[0, :]).astype(\"int\")\n",
    "    for (x, y, r) in circles:\n",
    "        # Dairenin içindeki ortalama rengi alın\n",
    "        mask = np.zeros_like(img_resized)\n",
    "        cv2.circle(mask, (x, y), r, (255, 255, 255), -1)\n",
    "        mean_val = cv2.mean(img_resized, mask=mask[:,:,0])\n",
    "        \n",
    "        # Ortalama RGB değerini al\n",
    "        r_val, g_val, b_val = int(mean_val[2]), int(mean_val[1]), int(mean_val[0])\n",
    "        \n",
    "        # En yakın Vita rengini bulun\n",
    "        color_name = getColorName(r_val, g_val, b_val)\n",
    "        \n",
    "        # Dairenin etrafına çember çizin ve renk ismini yazdırın\n",
    "        cv2.circle(img_resized, (x, y), r, (0, 255, 0), 3)\n",
    "        cv2.putText(img_resized, color_name, (x - r, y - r - 10), cv2.FONT_HERSHEY_SIMPLEX, 0.6, (0, 0, 255), 2)\n",
    "\n",
    "# Sonuçları gösterin\n",
    "cv2.imshow(\"Detected Teeth Colors\", img_resized)\n",
    "cv2.waitKey(0)\n",
    "cv2.destroyAllWindows()\n"
   ]
  },
  {
   "cell_type": "code",
   "execution_count": null,
   "metadata": {},
   "outputs": [],
   "source": []
  }
 ],
 "metadata": {
  "kernelspec": {
   "display_name": "Python (myenv)",
   "language": "python",
   "name": "myenv"
  },
  "language_info": {
   "codemirror_mode": {
    "name": "ipython",
    "version": 3
   },
   "file_extension": ".py",
   "mimetype": "text/x-python",
   "name": "python",
   "nbconvert_exporter": "python",
   "pygments_lexer": "ipython3",
   "version": "3.11.7"
  }
 },
 "nbformat": 4,
 "nbformat_minor": 2
}
