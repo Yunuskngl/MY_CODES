{
 "cells": [
  {
   "cell_type": "markdown",
   "metadata": {},
   "source": [
    "# color detection using OpenCV"
   ]
  },
  {
   "cell_type": "code",
   "execution_count": null,
   "metadata": {},
   "outputs": [
    {
     "name": "stdout",
     "output_type": "stream",
     "text": [
      "Collecting opencv-python\n",
      "  Downloading opencv_python-4.10.0.84-cp37-abi3-macosx_11_0_arm64.whl.metadata (20 kB)\n",
      "Requirement already satisfied: numpy>=1.21.2 in /opt/anaconda3/lib/python3.11/site-packages (from opencv-python) (1.26.4)\n",
      "Downloading opencv_python-4.10.0.84-cp37-abi3-macosx_11_0_arm64.whl (54.8 MB)\n",
      "\u001b[2K   \u001b[91m━━━━━━━━━━━━━━━━━━━━━━━━━━━━━━━━\u001b[0m\u001b[90m╺\u001b[0m\u001b[90m━━━━━━━\u001b[0m \u001b[32m44.5/54.8 MB\u001b[0m \u001b[31m1.2 MB/s\u001b[0m eta \u001b[36m0:00:09\u001b[0m"
     ]
    }
   ],
   "source": [
    "pip install opencv-python"
   ]
  },
  {
   "cell_type": "code",
   "execution_count": 3,
   "metadata": {},
   "outputs": [
    {
     "name": "stdout",
     "output_type": "stream",
     "text": [
      "Clicked at: (29, 14), RGB: (255, 255, 229)\n",
      "Clicked at: (375, 126), RGB: (138, 152, 223)\n",
      "Clicked at: (369, 128), RGB: (129, 126, 249)\n",
      "Clicked at: (364, 130), RGB: (128, 127, 254)\n",
      "Clicked at: (370, 477), RGB: (0, 0, 34)\n",
      "Clicked at: (361, 480), RGB: (1, 0, 76)\n"
     ]
    },
    {
     "ename": "KeyboardInterrupt",
     "evalue": "",
     "output_type": "error",
     "traceback": [
      "\u001b[0;31m---------------------------------------------------------------------------\u001b[0m",
      "\u001b[0;31mKeyboardInterrupt\u001b[0m                         Traceback (most recent call last)",
      "Cell \u001b[0;32mIn[3], line 60\u001b[0m\n\u001b[1;32m     56\u001b[0m             cv2\u001b[38;5;241m.\u001b[39mputText(img, text, (\u001b[38;5;241m50\u001b[39m, \u001b[38;5;241m50\u001b[39m), \u001b[38;5;241m2\u001b[39m, \u001b[38;5;241m0.8\u001b[39m, (\u001b[38;5;241m0\u001b[39m, \u001b[38;5;241m0\u001b[39m, \u001b[38;5;241m0\u001b[39m), \u001b[38;5;241m2\u001b[39m, cv2\u001b[38;5;241m.\u001b[39mLINE_AA)\n\u001b[1;32m     58\u001b[0m         clicked \u001b[38;5;241m=\u001b[39m \u001b[38;5;28;01mFalse\u001b[39;00m\n\u001b[0;32m---> 60\u001b[0m     \u001b[38;5;28;01mif\u001b[39;00m cv2\u001b[38;5;241m.\u001b[39mwaitKey(\u001b[38;5;241m20\u001b[39m) \u001b[38;5;241m&\u001b[39m \u001b[38;5;241m0xFF\u001b[39m \u001b[38;5;241m==\u001b[39m \u001b[38;5;241m27\u001b[39m:  \u001b[38;5;66;03m# Exit on 'ESC' key\u001b[39;00m\n\u001b[1;32m     61\u001b[0m         \u001b[38;5;28;01mbreak\u001b[39;00m\n\u001b[1;32m     63\u001b[0m cv2\u001b[38;5;241m.\u001b[39mdestroyAllWindows()\n",
      "\u001b[0;31mKeyboardInterrupt\u001b[0m: "
     ]
    }
   ],
   "source": [
    "import cv2\n",
    "import numpy as np\n",
    "import pandas as pd\n",
    "\n",
    "img_path = \"palette.jpg\"\n",
    "img = cv2.imread(img_path)\n",
    "img = cv2.resize(img, (700, 500))\n",
    "\n",
    "clicked = False\n",
    "r = g = b = xpos = ypos = 0\n",
    "\n",
    "# Reading csv file with pandas and giving names to each column\n",
    "index = [\"color\", \"color_name\", \"hex\", \"R\", \"G\", \"B\"]\n",
    "csv = pd.read_csv('colors.csv', names=index, header=None)\n",
    "\n",
    "# Function to calculate minimum distance from all colors and get the most matching color\n",
    "def getColorName(R, G, B):\n",
    "    minimum = 10000\n",
    "    for i in range(len(csv)):\n",
    "        d = abs(R - int(csv.loc[i, \"R\"])) + abs(G - int(csv.loc[i, \"G\"])) + abs(B - int(csv.loc[i, \"B\"]))\n",
    "        if d <= minimum:\n",
    "            minimum = d\n",
    "            cname = csv.loc[i, \"color_name\"]\n",
    "    return cname\n",
    "\n",
    "# Function to get x, y coordinates of mouse double click\n",
    "def draw_function(event, x, y, flags, param):\n",
    "    global b, g, r, xpos, ypos, clicked\n",
    "    if event == cv2.EVENT_LBUTTONDOWN:\n",
    "        clicked = True\n",
    "        xpos = x\n",
    "        ypos = y\n",
    "        b, g, r = img[y, x]\n",
    "        print(f\"Clicked at: ({x}, {y}), RGB: ({r}, {g}, {b})\")  # Konsola koordinatlar ve RGB değerleri yazdırılıyor\n",
    "        b = int(b)\n",
    "        g = int(g)\n",
    "        r = int(r)\n",
    "\n",
    "cv2.namedWindow('color detection by programming_fever')\n",
    "cv2.setMouseCallback('color detection by programming_fever', draw_function)\n",
    "\n",
    "while True:\n",
    "    cv2.imshow(\"color detection by programming_fever\", img)\n",
    "    if clicked:\n",
    "        # Draw rectangle\n",
    "        cv2.rectangle(img, (20, 20), (750, 60), (b, g, r), -1)\n",
    "\n",
    "        # Create text string to display (Color name and RGB values)\n",
    "        text = getColorName(r, g, b) + ' R=' + str(r) + ' G=' + str(g) + ' B=' + str(b)\n",
    "        \n",
    "        # Put text on the image\n",
    "        cv2.putText(img, text, (50, 50), 2, 0.8, (255, 255, 255), 2, cv2.LINE_AA)\n",
    "\n",
    "        # For very light colors, display text in black color\n",
    "        if r + g + b >= 600:\n",
    "            cv2.putText(img, text, (50, 50), 2, 0.8, (0, 0, 0), 2, cv2.LINE_AA)\n",
    "            \n",
    "        clicked = False\n",
    "\n",
    "    if cv2.waitKey(20) & 0xFF == 27:  # Exit on 'ESC' key\n",
    "        break\n",
    "\n",
    "cv2.destroyAllWindows()\n"
   ]
  },
  {
   "cell_type": "code",
   "execution_count": null,
   "metadata": {},
   "outputs": [],
   "source": []
  },
  {
   "cell_type": "code",
   "execution_count": null,
   "metadata": {},
   "outputs": [],
   "source": []
  }
 ],
 "metadata": {
  "kernelspec": {
   "display_name": "Python (myenv)",
   "language": "python",
   "name": "myenv"
  },
  "language_info": {
   "codemirror_mode": {
    "name": "ipython",
    "version": 3
   },
   "file_extension": ".py",
   "mimetype": "text/x-python",
   "name": "python",
   "nbconvert_exporter": "python",
   "pygments_lexer": "ipython3",
   "version": "3.11.7"
  }
 },
 "nbformat": 4,
 "nbformat_minor": 4
}
