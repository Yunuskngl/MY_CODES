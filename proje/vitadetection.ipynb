{
 "cells": [
  {
   "cell_type": "code",
   "execution_count": 7,
   "metadata": {},
   "outputs": [
    {
     "ename": "KeyboardInterrupt",
     "evalue": "",
     "output_type": "error",
     "traceback": [
      "\u001b[0;31m---------------------------------------------------------------------------\u001b[0m",
      "\u001b[0;31mKeyboardInterrupt\u001b[0m                         Traceback (most recent call last)",
      "Cell \u001b[0;32mIn[7], line 62\u001b[0m\n\u001b[1;32m     58\u001b[0m             cv2\u001b[38;5;241m.\u001b[39mputText(img, text, (\u001b[38;5;241m50\u001b[39m, \u001b[38;5;241m50\u001b[39m), \u001b[38;5;241m2\u001b[39m, \u001b[38;5;241m0.8\u001b[39m, (\u001b[38;5;241m0\u001b[39m, \u001b[38;5;241m0\u001b[39m, \u001b[38;5;241m0\u001b[39m), \u001b[38;5;241m2\u001b[39m, cv2\u001b[38;5;241m.\u001b[39mLINE_AA)\n\u001b[1;32m     60\u001b[0m         clicked \u001b[38;5;241m=\u001b[39m \u001b[38;5;28;01mFalse\u001b[39;00m\n\u001b[0;32m---> 62\u001b[0m     \u001b[38;5;28;01mif\u001b[39;00m cv2\u001b[38;5;241m.\u001b[39mwaitKey(\u001b[38;5;241m20\u001b[39m) \u001b[38;5;241m&\u001b[39m \u001b[38;5;241m0xFF\u001b[39m \u001b[38;5;241m==\u001b[39m \u001b[38;5;241m27\u001b[39m:  \u001b[38;5;66;03m# 'ESC' tuşuna basıldığında çık\u001b[39;00m\n\u001b[1;32m     63\u001b[0m         \u001b[38;5;28;01mbreak\u001b[39;00m\n\u001b[1;32m     65\u001b[0m cv2\u001b[38;5;241m.\u001b[39mdestroyAllWindows()\n",
      "\u001b[0;31mKeyboardInterrupt\u001b[0m: "
     ]
    }
   ],
   "source": [
    "import cv2\n",
    "import numpy as np\n",
    "import pandas as pd\n",
    "\n",
    "# Görüntü dosyasının yolunu belirtin\n",
    "img_path = \"vita2.jpg\"\n",
    "img = cv2.imread(img_path)\n",
    "img = cv2.resize(img, (700, 500))\n",
    "\n",
    "\n",
    "clicked = False\n",
    "r = g = b = xpos = ypos = 0\n",
    "\n",
    "# CSV dosyasını pandas ile okuyun ve her sütuna isim verin\n",
    "csv = pd.read_csv('detailed_vita.csv')\n",
    "\n",
    "# En yakın rengi bulmak için kullanılan fonksiyon\n",
    "def getColorName(R, G, B):\n",
    "    minimum = 10000\n",
    "    cname = \"Unknown\"\n",
    "    for i in range(len(csv)):\n",
    "        d = abs(R - int(csv.loc[i, \"R\"])) + abs(G - int(csv.loc[i, \"G\"])) + abs(B - int(csv.loc[i, \"B\"]))\n",
    "        if d <= minimum:\n",
    "            minimum = d\n",
    "            cname = csv.loc[i, \"color_name\"]\n",
    "    return cname\n",
    "\n",
    "# Fare çift tıklama koordinatlarını almak için fonksiyon\n",
    "def draw_function(event, x, y, flags, param):\n",
    "    global b, g, r, xpos, ypos, clicked\n",
    "    if event == cv2.EVENT_LBUTTONDOWN:\n",
    "        clicked = True\n",
    "        xpos = x\n",
    "        ypos = y\n",
    "        b, g, r = img[y, x]\n",
    "        print(f\"Clicked at: ({x}, {y}), RGB: ({r}, {g}, {b})\")  # Konsola koordinatlar ve RGB değerleri yazdırılıyor\n",
    "        b = int(b)\n",
    "        g = int(g)\n",
    "        r = int(r)\n",
    "\n",
    "cv2.namedWindow('color detection by programming_fever')\n",
    "cv2.setMouseCallback('color detection by programming_fever', draw_function)\n",
    "\n",
    "while True:\n",
    "    cv2.imshow(\"color detection by programming_fever\", img)\n",
    "    if clicked:\n",
    "        # Dikdörtgen çiz\n",
    "        cv2.rectangle(img, (20, 20), (750, 60), (b, g, r), -1)\n",
    "\n",
    "        # Görüntü üzerinde gösterilecek metin dizesini oluştur (Renk adı ve RGB değerleri)\n",
    "        text = getColorName(r, g, b) + ' R=' + str(r) + ' G=' + str(g) + ' B=' + str(b)\n",
    "        \n",
    "        # Metni görüntüye yerleştir\n",
    "        cv2.putText(img, text, (50, 50), 2, 0.8, (255, 255, 255), 2, cv2.LINE_AA)\n",
    "\n",
    "        # Çok açık renkler için metni siyah renkte göster\n",
    "        if r + g + b >= 600:\n",
    "            cv2.putText(img, text, (50, 50), 2, 0.8, (0, 0, 0), 2, cv2.LINE_AA)\n",
    "            \n",
    "        clicked = False\n",
    "\n",
    "    if cv2.waitKey(20) & 0xFF == 27:  # 'ESC' tuşuna basıldığında çık\n",
    "        break\n",
    "\n",
    "cv2.destroyAllWindows()\n"
   ]
  },
  {
   "cell_type": "code",
   "execution_count": null,
   "metadata": {},
   "outputs": [],
   "source": []
  }
 ],
 "metadata": {
  "kernelspec": {
   "display_name": "Python (myenv)",
   "language": "python",
   "name": "myenv"
  },
  "language_info": {
   "codemirror_mode": {
    "name": "ipython",
    "version": 3
   },
   "file_extension": ".py",
   "mimetype": "text/x-python",
   "name": "python",
   "nbconvert_exporter": "python",
   "pygments_lexer": "ipython3",
   "version": "3.11.7"
  }
 },
 "nbformat": 4,
 "nbformat_minor": 2
}
